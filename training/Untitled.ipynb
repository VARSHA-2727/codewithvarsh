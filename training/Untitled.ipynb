{
 "cells": [
  {
   "cell_type": "code",
   "execution_count": 1,
   "id": "7d222719",
   "metadata": {},
   "outputs": [
    {
     "name": "stdout",
     "output_type": "stream",
     "text": [
      "[1, 2, 3, 4, 5, 6, 7, 8, 9, 10]\n"
     ]
    }
   ],
   "source": [
    "#list comprehention\n",
    "list1=[i for i in range(1,11)]\n",
    "print(list1)"
   ]
  },
  {
   "cell_type": "code",
   "execution_count": 2,
   "id": "bd12bc8c",
   "metadata": {},
   "outputs": [
    {
     "name": "stdout",
     "output_type": "stream",
     "text": [
      "[98, 54, 91, 43, 65]\n"
     ]
    }
   ],
   "source": [
    "#3 filtering\n",
    "scores=[98,54,91,43,65]\n",
    "passed=[marks for marks in scores if marks>=40]\n",
    "print(passed)"
   ]
  },
  {
   "cell_type": "code",
   "execution_count": 3,
   "id": "9cee3418",
   "metadata": {},
   "outputs": [
    {
     "name": "stdout",
     "output_type": "stream",
     "text": [
      "[123000, 33000, 43000, 73000]\n"
     ]
    }
   ],
   "source": [
    "#salary incrementation\n",
    "salary=[120000,30000,40000,70000]\n",
    "new=[sal+3000 for sal in salary]\n",
    "print(new)"
   ]
  },
  {
   "cell_type": "code",
   "execution_count": 4,
   "id": "981032c8",
   "metadata": {},
   "outputs": [
    {
     "name": "stdout",
     "output_type": "stream",
     "text": [
      "[123000, 33000, 43000, 73000]\n"
     ]
    }
   ],
   "source": [
    "# call functions\n",
    "def incr_salary(s):\n",
    "  if s>=30000:\n",
    "    return s+5000\n",
    "  else:\n",
    "        return s+3000\n",
    "salary=[120000,30000,40000,70000]\n",
    "new=[sal+3000 for sal in salary]\n",
    "print(new)\n"
   ]
  },
  {
   "cell_type": "code",
   "execution_count": 5,
   "id": "95c047f3",
   "metadata": {},
   "outputs": [
    {
     "name": "stdout",
     "output_type": "stream",
     "text": [
      "{'madam': 'yes', 'sir': 'no', 'mam': 'yes', 'lol': 'yes', 'python': 'no'}\n"
     ]
    }
   ],
   "source": [
    "#dictionary comphrehension\n",
    "words=[\"madam\",\"sir\",\"mam\",\"lol\",\"python\"]\n",
    "res={w:\"yes\" if w==w[::-1] else \"no\" for w in words}\n",
    "print(res)"
   ]
  },
  {
   "cell_type": "code",
   "execution_count": 6,
   "id": "59d5e5f2",
   "metadata": {},
   "outputs": [
    {
     "name": "stdout",
     "output_type": "stream",
     "text": [
      "['short', 'short', 'long', 'long', 'short']\n"
     ]
    }
   ],
   "source": [
    "#6.conditional\n",
    "names=['ram','alex','govind','likhita','rina']\n",
    "res=[\"short\" if len(n)<=4 else \"long\" for n in names]\n",
    "print(res)"
   ]
  },
  {
   "cell_type": "code",
   "execution_count": 9,
   "id": "5372fdb2",
   "metadata": {},
   "outputs": [
    {
     "name": "stdout",
     "output_type": "stream",
     "text": [
      "78.5\n"
     ]
    }
   ],
   "source": [
    "#implementing expression using lambda\n",
    "area_c=lambda r:3.14*r*r\n",
    "a=area_c(5)\n",
    "print(a)"
   ]
  },
  {
   "cell_type": "code",
   "execution_count": 10,
   "id": "b1ba524c",
   "metadata": {},
   "outputs": [
    {
     "name": "stdout",
     "output_type": "stream",
     "text": [
      "60\n"
     ]
    }
   ],
   "source": [
    "volume=lambda l,b,h,:l*b*h\n",
    "print(volume(3,4,5))"
   ]
  },
  {
   "cell_type": "code",
   "execution_count": 13,
   "id": "4ccefe71",
   "metadata": {},
   "outputs": [
    {
     "name": "stdout",
     "output_type": "stream",
     "text": [
      "-23\n"
     ]
    }
   ],
   "source": [
    "det=lambda a,b,c:(b*b)-(4*a*c)\n",
    "print(det(2,3,4))"
   ]
  },
  {
   "cell_type": "code",
   "execution_count": 17,
   "id": "4d01f419",
   "metadata": {},
   "outputs": [
    {
     "name": "stdout",
     "output_type": "stream",
     "text": [
      "varsha_GCEM\n"
     ]
    }
   ],
   "source": [
    "# names=[\"nihal\",\"harsha\",\"varsha\",\"likhi\"]\n",
    "add_suffix=lambda n:n+\"_GCEM\"\n",
    "print(add_suffix(\"varsha\"))"
   ]
  },
  {
   "cell_type": "code",
   "execution_count": 19,
   "id": "c8c599c8",
   "metadata": {},
   "outputs": [
    {
     "name": "stdout",
     "output_type": "stream",
     "text": [
      "89.6\n"
     ]
    }
   ],
   "source": [
    "ctof=lambda c:(1.8*c)+32\n",
    "print(ctof(32))"
   ]
  },
  {
   "cell_type": "code",
   "execution_count": 29,
   "id": "ea97634b",
   "metadata": {},
   "outputs": [
    {
     "name": "stdout",
     "output_type": "stream",
     "text": [
      "[('shyam', 50), ('ram', 40), ('anju', 300)]\n",
      "[('ram', 40), ('shyam', 50), ('anju', 300)]\n"
     ]
    }
   ],
   "source": [
    "#sorted usig lambda\n",
    "d1={\"ram\":40,\"shyam\":50,\"anju\":300}\n",
    "sorted_res_key=sorted(d1.items(),key=lambda d:d[0],reverse=True)\n",
    "sorted_res_val=sorted(d1.items(),key=lambda d:d[1])\n",
    "print(sorted_res_key)\n",
    "print(sorted_res_val)"
   ]
  },
  {
   "cell_type": "code",
   "execution_count": 30,
   "id": "2a63720d",
   "metadata": {},
   "outputs": [
    {
     "name": "stdout",
     "output_type": "stream",
     "text": [
      "[(-3, 4), (2, -3), (3, 4), (5, 6)]\n",
      "[(2, -3), (3, 4), (-3, 4), (5, 6)]\n"
     ]
    }
   ],
   "source": [
    "points=[(2,-3),(3,4),(5,6),(-3,4)]\n",
    "sorted_points_x=sorted(points,key=lambda p:p[0])\n",
    "sorted_points_y=sorted(points,key=lambda p:p[1])\n",
    "print(sorted_points_x)\n",
    "print(sorted_points_y)"
   ]
  },
  {
   "cell_type": "code",
   "execution_count": 35,
   "id": "267913a6",
   "metadata": {},
   "outputs": [
    {
     "name": "stdout",
     "output_type": "stream",
     "text": [
      "[(5, 6), (3, 4), (-3, 4), (2, -3)]\n"
     ]
    }
   ],
   "source": [
    "values=[(2,-3),(3,4),(5,6),(-3,4)]\n",
    "sorted_values=sorted(values,key=lambda v:sum(v),reverse=True)\n",
    "print(sorted_values)"
   ]
  },
  {
   "cell_type": "code",
   "execution_count": 37,
   "id": "fd7bc4fc",
   "metadata": {},
   "outputs": [
    {
     "name": "stdout",
     "output_type": "stream",
     "text": [
      "['likhita', 'govind', 'alex', 'rina', 'ram']\n"
     ]
    }
   ],
   "source": [
    "names=['ram','alex','govind','likhita','rina']\n",
    "sorted_names=sorted(names,key=lambda n:len(n),reverse=True)\n",
    "print(sorted_names)"
   ]
  },
  {
   "cell_type": "code",
   "execution_count": 43,
   "id": "9d7b19c5",
   "metadata": {},
   "outputs": [
    {
     "name": "stdout",
     "output_type": "stream",
     "text": [
      "['likhita', 'govind', 'alex', 'rina', 'ram']\n"
     ]
    }
   ],
   "source": [
    "def count_vowel(w):\n",
    "    vcount=0\n",
    "    for ch in w:\n",
    "        if ch in \"aeoiuAEIOU\":\n",
    "            vcount+=1\n",
    "            return vcount\n",
    "names=['ram','alex','govind','likhita','rina']\n",
    "sorted_name=sorted(names,key=count_vowel)\n",
    "print(sorted_names)"
   ]
  },
  {
   "cell_type": "code",
   "execution_count": 49,
   "id": "fd526c8f",
   "metadata": {},
   "outputs": [
    {
     "name": "stdout",
     "output_type": "stream",
     "text": [
      "[22, 86, 66]\n"
     ]
    }
   ],
   "source": [
    "#filtering\n",
    "numbers=[23,45,67,789,22,86,66]\n",
    "even=list(filter(lambda n:n%2==0,numbers))\n",
    "print(even)"
   ]
  },
  {
   "cell_type": "code",
   "execution_count": 53,
   "id": "a5cd36ea",
   "metadata": {},
   "outputs": [
    {
     "name": "stdout",
     "output_type": "stream",
     "text": [
      "['mam', 'lol']\n"
     ]
    }
   ],
   "source": [
    "words=[\"mam\",\"sir\",\"lol\"]\n",
    "pal=list(filter(lambda w:w==w[::-1],words))\n",
    "print(pal)"
   ]
  },
  {
   "cell_type": "code",
   "execution_count": 57,
   "id": "0bec4191",
   "metadata": {},
   "outputs": [
    {
     "name": "stdout",
     "output_type": "stream",
     "text": [
      "[('heart', 'earth'), ('dog', 'god')]\n"
     ]
    }
   ],
   "source": [
    "words=[(\"cat\",\"acr\"),(\"heart\",\"earth\"),(\"dog\",\"god\")]\n",
    "anagrams=list(filter(lambda t:sorted(t[0])==sorted(t[1]),words))\n",
    "print(anagrams)"
   ]
  },
  {
   "cell_type": "code",
   "execution_count": 61,
   "id": "23f7c694",
   "metadata": {},
   "outputs": [
    {
     "name": "stdout",
     "output_type": "stream",
     "text": [
      "['asha', 'ishan']\n"
     ]
    }
   ],
   "source": [
    "def strtswithvowel(w):\n",
    "    return w[0] in \"aeiouAEIOU\"\n",
    "names=[\"asha\",\"dolphin\",\"revanth\",\"ishan\"]\n",
    "names_vowels=list(filter(lambda n:strtswithvowel(n),names))\n",
    "print(names_vowels)\n"
   ]
  },
  {
   "cell_type": "code",
   "execution_count": 64,
   "id": "eab72f13",
   "metadata": {},
   "outputs": [
    {
     "name": "stdout",
     "output_type": "stream",
     "text": [
      "['varsh', 'harsh']\n"
     ]
    }
   ],
   "source": [
    "#in and not in\n",
    "part=[\"asha\",\"dolp\",\"varsh\",\"harsh\"]\n",
    "winner=[\"varsh\",\"harsh\"]\n",
    "res=list(filter(lambda n:n in winner,part))\n",
    "print(res)"
   ]
  },
  {
   "cell_type": "code",
   "execution_count": null,
   "id": "7bd55ef9",
   "metadata": {},
   "outputs": [],
   "source": []
  }
 ],
 "metadata": {
  "kernelspec": {
   "display_name": "Python 3 (ipykernel)",
   "language": "python",
   "name": "python3"
  },
  "language_info": {
   "codemirror_mode": {
    "name": "ipython",
    "version": 3
   },
   "file_extension": ".py",
   "mimetype": "text/x-python",
   "name": "python",
   "nbconvert_exporter": "python",
   "pygments_lexer": "ipython3",
   "version": "3.11.5"
  }
 },
 "nbformat": 4,
 "nbformat_minor": 5
}
